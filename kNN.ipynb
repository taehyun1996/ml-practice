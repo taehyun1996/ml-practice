{
 "cells": [
  {
   "cell_type": "markdown",
   "id": "7b090a14",
   "metadata": {},
   "source": [
    "## k-Nearest Neighbour\n",
    "\n",
    "It doesn't have explicit weights; it stores the training data to predict new points\n",
    "\n",
    "\n",
    "It finds the k nearest training points (usually using Euclidean distance). \n"
   ]
  }
 ],
 "metadata": {
  "kernelspec": {
   "display_name": "tae-ml",
   "language": "python",
   "name": "python3"
  },
  "language_info": {
   "codemirror_mode": {
    "name": "ipython",
    "version": 3
   },
   "file_extension": ".py",
   "mimetype": "text/x-python",
   "name": "python",
   "nbconvert_exporter": "python",
   "pygments_lexer": "ipython3",
   "version": "3.12.3"
  }
 },
 "nbformat": 4,
 "nbformat_minor": 5
}
