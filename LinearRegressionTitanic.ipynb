{
 "cells": [
  {
   "cell_type": "code",
   "execution_count": 2,
   "id": "64eb99cc",
   "metadata": {},
   "outputs": [
    {
     "data": {
      "text/html": [
       "<div>\n",
       "<style scoped>\n",
       "    .dataframe tbody tr th:only-of-type {\n",
       "        vertical-align: middle;\n",
       "    }\n",
       "\n",
       "    .dataframe tbody tr th {\n",
       "        vertical-align: top;\n",
       "    }\n",
       "\n",
       "    .dataframe thead th {\n",
       "        text-align: right;\n",
       "    }\n",
       "</style>\n",
       "<table border=\"1\" class=\"dataframe\">\n",
       "  <thead>\n",
       "    <tr style=\"text-align: right;\">\n",
       "      <th></th>\n",
       "      <th>PassengerId</th>\n",
       "      <th>Survived</th>\n",
       "      <th>Pclass</th>\n",
       "      <th>Name</th>\n",
       "      <th>Sex</th>\n",
       "      <th>Age</th>\n",
       "      <th>SibSp</th>\n",
       "      <th>Parch</th>\n",
       "      <th>Ticket</th>\n",
       "      <th>Fare</th>\n",
       "      <th>Cabin</th>\n",
       "      <th>Embarked</th>\n",
       "    </tr>\n",
       "  </thead>\n",
       "  <tbody>\n",
       "    <tr>\n",
       "      <th>0</th>\n",
       "      <td>1</td>\n",
       "      <td>0</td>\n",
       "      <td>3</td>\n",
       "      <td>Braund, Mr. Owen Harris</td>\n",
       "      <td>male</td>\n",
       "      <td>22.0</td>\n",
       "      <td>1</td>\n",
       "      <td>0</td>\n",
       "      <td>A/5 21171</td>\n",
       "      <td>7.2500</td>\n",
       "      <td>NaN</td>\n",
       "      <td>S</td>\n",
       "    </tr>\n",
       "    <tr>\n",
       "      <th>1</th>\n",
       "      <td>2</td>\n",
       "      <td>1</td>\n",
       "      <td>1</td>\n",
       "      <td>Cumings, Mrs. John Bradley (Florence Briggs Th...</td>\n",
       "      <td>female</td>\n",
       "      <td>38.0</td>\n",
       "      <td>1</td>\n",
       "      <td>0</td>\n",
       "      <td>PC 17599</td>\n",
       "      <td>71.2833</td>\n",
       "      <td>C85</td>\n",
       "      <td>C</td>\n",
       "    </tr>\n",
       "    <tr>\n",
       "      <th>2</th>\n",
       "      <td>3</td>\n",
       "      <td>1</td>\n",
       "      <td>3</td>\n",
       "      <td>Heikkinen, Miss. Laina</td>\n",
       "      <td>female</td>\n",
       "      <td>26.0</td>\n",
       "      <td>0</td>\n",
       "      <td>0</td>\n",
       "      <td>STON/O2. 3101282</td>\n",
       "      <td>7.9250</td>\n",
       "      <td>NaN</td>\n",
       "      <td>S</td>\n",
       "    </tr>\n",
       "    <tr>\n",
       "      <th>3</th>\n",
       "      <td>4</td>\n",
       "      <td>1</td>\n",
       "      <td>1</td>\n",
       "      <td>Futrelle, Mrs. Jacques Heath (Lily May Peel)</td>\n",
       "      <td>female</td>\n",
       "      <td>35.0</td>\n",
       "      <td>1</td>\n",
       "      <td>0</td>\n",
       "      <td>113803</td>\n",
       "      <td>53.1000</td>\n",
       "      <td>C123</td>\n",
       "      <td>S</td>\n",
       "    </tr>\n",
       "    <tr>\n",
       "      <th>4</th>\n",
       "      <td>5</td>\n",
       "      <td>0</td>\n",
       "      <td>3</td>\n",
       "      <td>Allen, Mr. William Henry</td>\n",
       "      <td>male</td>\n",
       "      <td>35.0</td>\n",
       "      <td>0</td>\n",
       "      <td>0</td>\n",
       "      <td>373450</td>\n",
       "      <td>8.0500</td>\n",
       "      <td>NaN</td>\n",
       "      <td>S</td>\n",
       "    </tr>\n",
       "  </tbody>\n",
       "</table>\n",
       "</div>"
      ],
      "text/plain": [
       "   PassengerId  Survived  Pclass  \\\n",
       "0            1         0       3   \n",
       "1            2         1       1   \n",
       "2            3         1       3   \n",
       "3            4         1       1   \n",
       "4            5         0       3   \n",
       "\n",
       "                                                Name     Sex   Age  SibSp  \\\n",
       "0                            Braund, Mr. Owen Harris    male  22.0      1   \n",
       "1  Cumings, Mrs. John Bradley (Florence Briggs Th...  female  38.0      1   \n",
       "2                             Heikkinen, Miss. Laina  female  26.0      0   \n",
       "3       Futrelle, Mrs. Jacques Heath (Lily May Peel)  female  35.0      1   \n",
       "4                           Allen, Mr. William Henry    male  35.0      0   \n",
       "\n",
       "   Parch            Ticket     Fare Cabin Embarked  \n",
       "0      0         A/5 21171   7.2500   NaN        S  \n",
       "1      0          PC 17599  71.2833   C85        C  \n",
       "2      0  STON/O2. 3101282   7.9250   NaN        S  \n",
       "3      0            113803  53.1000  C123        S  \n",
       "4      0            373450   8.0500   NaN        S  "
      ]
     },
     "execution_count": 2,
     "metadata": {},
     "output_type": "execute_result"
    }
   ],
   "source": [
    "import os\n",
    "from pathlib import Path\n",
    "import numpy as np\n",
    "import pandas as pd\n",
    "\n",
    "train_data = pd.read_csv(\"/home/tae-hyun-ueon/Documents/titanic/train.csv\")\n",
    "train_data.head()\n"
   ]
  },
  {
   "cell_type": "code",
   "execution_count": 3,
   "id": "3dfb5a22",
   "metadata": {},
   "outputs": [
    {
     "name": "stdout",
     "output_type": "stream",
     "text": [
      "Model Coefficients: [-0.16582437 -0.02880357  0.0569487   0.00088876]\n",
      "Model Intercept: 0.7313788172621785\n"
     ]
    }
   ],
   "source": [
    "from sklearn import linear_model\n",
    "reg = linear_model.LinearRegression()\n",
    "reg.fit(train_data[[\"Pclass\", \"SibSp\", \"Parch\", \"Fare\"]], train_data[\"Survived\"])\n",
    "print(\"Model Coefficients:\", reg.coef_)\n",
    "print(\"Model Intercept:\", reg.intercept_)"
   ]
  },
  {
   "cell_type": "markdown",
   "id": "38f7e17a",
   "metadata": {},
   "source": [
    "The ```reg.coef_``` gives out the weight of each feature when it comes to predicting the output. All other features are kept constant while the particular feature is changed to predict the output. \n",
    "\n",
    "The ```reg.intercept_``` is the predicted value of survived when all the features are zero. It is a baseline prediction. "
   ]
  },
  {
   "cell_type": "code",
   "execution_count": 18,
   "id": "3ab58f54",
   "metadata": {},
   "outputs": [],
   "source": [
    "from sklearn.linear_model import LinearRegression\n",
    "from sklearn.model_selection import train_test_split\n",
    "data = train_data[[\"Age\", \"Survived\"]].dropna()\n",
    "y = data[\"Survived\"]\n",
    "X = data[[\"Age\"]]\n",
    "\n",
    "X_train, X_test, y_train, y_test = train_test_split(X, y, test_size=30, shuffle = False)\n",
    "\n",
    "regressor = LinearRegression().fit(X_train, y_train)"
   ]
  },
  {
   "cell_type": "markdown",
   "id": "ae9c6314",
   "metadata": {},
   "source": [
    "The ```.dropna()``` function can be used to eliminate the NaN values from both the column it's found in and another column that holds its respective values. \n",
    "\n",
    "The ```test_size=30``` gets the last 30 samples because the ```shuffle = False``` preserves the order"
   ]
  },
  {
   "cell_type": "code",
   "execution_count": 19,
   "id": "a4f9d01c",
   "metadata": {},
   "outputs": [
    {
     "name": "stdout",
     "output_type": "stream",
     "text": [
      "Mean Squared Error: 0.259322393090572\n",
      "R^2 Score: -0.04192032938176227\n"
     ]
    }
   ],
   "source": [
    "from sklearn.metrics import mean_squared_error, r2_score\n",
    "\n",
    "y_pred = regressor.predict(X_test)\n",
    "print(\"Mean Squared Error:\", mean_squared_error(y_test, y_pred))\n",
    "print(\"R^2 Score:\", r2_score(y_test, y_pred))"
   ]
  },
  {
   "cell_type": "markdown",
   "id": "fa313930",
   "metadata": {},
   "source": [
    "The Mean Squared Error is the average of the squared differences between predictions and the true values. \n",
    "\n",
    "$\\mathrm{MSE}=\\frac{1}{n} \\sum_{i=1}^n\\left(y_i-\\hat{y}_i\\right)^2$\n",
    "\n",
    "The $R^2$ is the coefficient of the determination where it shows you how much of the variance of the $y$ in the model explains compared to a baseline that always predicts the mean of $y$. \n",
    "\n",
    "$R^2=1-\\frac{\\sum\\left(y_i-\\hat{y}_i\\right)^2}{\\sum\\left(y_i-\\bar{y}\\right)^2}$\n",
    "\n",
    "where $R^2 = 1$ are perfect predictions and $R^2=0$ are no better than predicted the test mean."
   ]
  },
  {
   "cell_type": "code",
   "execution_count": 20,
   "id": "96bfaa3d",
   "metadata": {},
   "outputs": [
    {
     "data": {
      "image/png": "[encoded data removed]",
      "text/plain": [
       "<Figure size 800x500 with 2 Axes>"
      ]
     },
     "metadata": {},
     "output_type": "display_data"
    }
   ],
   "source": [
    "import matplotlib.pyplot as plt\n",
    "\n",
    "fig, ax = plt.subplots(ncols=2, figsize=(8,5), sharex=True, sharey=True)\n",
    "\n",
    "ax[0].scatter(X_train, y_train, color='blue', label='Training Data')\n",
    "ax[0].plot(X_train, regressor.predict(X_train), linewidth=2, color='red', label='Regression Line')\n",
    "ax[0].legend()\n",
    "ax[0].set_xlabel('Pclass')\n",
    "ax[0].set_ylabel('Survived')\n",
    "ax[0].set_title('Training Data and Regression Line')\n",
    "\n",
    "ax[1].scatter(X_test, y_test, color='green', label='Test Data')\n",
    "ax[1].plot(X_test, y_pred, linewidth=2, color='red', label='Regression Line')\n",
    "ax[1].legend()\n",
    "ax[1].set_xlabel('Pclass')\n",
    "ax[1].set_ylabel('Survived')\n",
    "ax[1].set_title('Test Data and Regression Line')\n",
    "plt.tight_layout()\n",
    "plt.show()"
   ]
  },
  {
   "cell_type": "markdown",
   "id": "9d13c53f",
   "metadata": {},
   "source": [
    "Linear Regression in general isn't the right tool for this method as it predicts a range of **continuous** values rather than a binary 0 or 1. This means that it can predict things that are outside [0,1] like 0.2, 0.3 etc which are not valid outcomes. "
   ]
  }
 ],
 "metadata": {
  "kernelspec": {
   "display_name": "tae-ml",
   "language": "python",
   "name": "python3"
  },
  "language_info": {
   "codemirror_mode": {
    "name": "ipython",
    "version": 3
   },
   "file_extension": ".py",
   "mimetype": "text/x-python",
   "name": "python",
   "nbconvert_exporter": "python",
   "pygments_lexer": "ipython3",
   "version": "3.12.3"
  }
 },
 "nbformat": 4,
 "nbformat_minor": 5
}
